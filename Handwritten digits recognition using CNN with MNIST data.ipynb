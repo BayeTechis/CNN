{
 "cells": [
  {
   "cell_type": "code",
   "execution_count": 16,
   "id": "0c0d18e8",
   "metadata": {},
   "outputs": [
    {
     "name": "stdout",
     "output_type": "stream",
     "text": [
      "Train: X = (60000, 28, 28), y = (60000,)\n",
      "Test: X = (10000, 28, 28), y = (10000,)\n"
     ]
    }
   ],
   "source": [
    "import matplotlib.pyplot as plt\n",
    "import keras\n",
    "from keras.datasets import mnist \n",
    "\n",
    "(X_train, y_train),(X_test,y_test) = mnist.load_data()\n",
    "\n",
    "print('Train: X = {}, y = {}'.format(X_train.shape, y_train.shape)) \n",
    "print('Test: X = {}, y = {}'.format(X_test.shape, y_test.shape))\n",
    "m = y_test"
   ]
  },
  {
   "cell_type": "code",
   "execution_count": 8,
   "id": "557404e4",
   "metadata": {},
   "outputs": [],
   "source": [
    "def plot_input_img(i):\n",
    "    plt.subplot(int('23' +str(i+1)))\n",
    "    plt.imshow(X_train[i], cmap = 'binary')\n",
    "    plt.title(y_train[i])\n",
    "    plt.show()\n",
    "     "
   ]
  },
  {
   "cell_type": "code",
   "execution_count": 9,
   "id": "e6a76d8e",
   "metadata": {
    "scrolled": false
   },
   "outputs": [
    {
     "data": {
      "image/png": "[encoded data removed]",
      "text/plain": [
       "<Figure size 432x288 with 1 Axes>"
      ]
     },
     "metadata": {
      "needs_background": "light"
     },
     "output_type": "display_data"
    },
    {
     "data": {
      "image/png": "[encoded data removed]",
      "text/plain": [
       "<Figure size 432x288 with 1 Axes>"
      ]
     },
     "metadata": {
      "needs_background": "light"
     },
     "output_type": "display_data"
    },
    {
     "data": {
      "image/png": "[encoded data removed]",
      "text/plain": [
       "<Figure size 432x288 with 1 Axes>"
      ]
     },
     "metadata": {
      "needs_background": "light"
     },
     "output_type": "display_data"
    }
   ],
   "source": [
    "for i in range(3):\n",
    "    \n",
    "    plot_input_img(i)"
   ]
  },
  {
   "cell_type": "markdown",
   "id": "03bc2b9b",
   "metadata": {},
   "source": [
    "Pre-processing"
   ]
  },
  {
   "cell_type": "code",
   "execution_count": 10,
   "id": "5609b945",
   "metadata": {},
   "outputs": [
    {
     "name": "stdout",
     "output_type": "stream",
     "text": [
      "x_train shape: (60000, 28, 28, 1)\n",
      "60000 train samples\n",
      "10000 test samples\n"
     ]
    }
   ],
   "source": [
    "#Scaling\n",
    "import tensorflow as tf\n",
    "import numpy as np\n",
    "\n",
    "X_train = X_train.astype(np.float32)/255\n",
    "X_test = X_test.astype(np.float32)/255\n",
    "\n",
    "\n",
    "#reshaping\n",
    "\n",
    "X_train = np.expand_dims(X_train, -1 )\n",
    "X_test = np.expand_dims(X_test, -1 )\n",
    "\n",
    "\n",
    "print('x_train shape:', X_train.shape)\n",
    "print(X_train.shape[0], 'train samples')\n",
    "print(X_test.shape[0], 'test samples')"
   ]
  },
  {
   "cell_type": "code",
   "execution_count": 11,
   "id": "01bdb12a",
   "metadata": {},
   "outputs": [],
   "source": [
    "# convert class vectors to one hot vector\n",
    "y_train = keras.utils.to_categorical(y_train)\n",
    "y_test = keras.utils.to_categorical(y_test)"
   ]
  },
  {
   "cell_type": "markdown",
   "id": "bcda69d3",
   "metadata": {},
   "source": [
    "Model Construction"
   ]
  },
  {
   "cell_type": "code",
   "execution_count": 6,
   "id": "2b40bc1f",
   "metadata": {},
   "outputs": [],
   "source": [
    "from keras.models import Sequential\n",
    "from keras.layers import Dense, Dropout, Flatten, Conv2D, MaxPool2D\n",
    "\n",
    "\n",
    "model = tf.keras.models.Sequential()\n",
    "\n",
    "model.add(Conv2D(32, kernel_size=(3, 3),activation='relu',input_shape=(28,28,1)))\n",
    "model.add(MaxPool2D(pool_size=(2, 2)))\n",
    "\n",
    "model.add(Conv2D(64, (3, 3), activation='relu'))\n",
    "model.add(MaxPool2D(pool_size=(2, 2)))\n",
    "\n",
    "model.add(Flatten())\n",
    "model.add(Dropout(0.25))\n",
    "\n",
    "model.add(Dense(10, activation='softmax'))\n"
   ]
  },
  {
   "cell_type": "markdown",
   "id": "3520017f",
   "metadata": {},
   "source": [
    "Model Summary"
   ]
  },
  {
   "cell_type": "code",
   "execution_count": 7,
   "id": "7599b4a7",
   "metadata": {
    "scrolled": false
   },
   "outputs": [
    {
     "name": "stdout",
     "output_type": "stream",
     "text": [
      "Model: \"sequential\"\n",
      "_________________________________________________________________\n",
      " Layer (type)                Output Shape              Param #   \n",
      "=================================================================\n",
      " conv2d (Conv2D)             (None, 26, 26, 32)        320       \n",
      "                                                                 \n",
      " max_pooling2d (MaxPooling2D  (None, 13, 13, 32)       0         \n",
      " )                                                               \n",
      "                                                                 \n",
      " conv2d_1 (Conv2D)           (None, 11, 11, 64)        18496     \n",
      "                                                                 \n",
      " max_pooling2d_1 (MaxPooling  (None, 5, 5, 64)         0         \n",
      " 2D)                                                             \n",
      "                                                                 \n",
      " flatten (Flatten)           (None, 1600)              0         \n",
      "                                                                 \n",
      " dropout (Dropout)           (None, 1600)              0         \n",
      "                                                                 \n",
      " dense (Dense)               (None, 10)                16010     \n",
      "                                                                 \n",
      "=================================================================\n",
      "Total params: 34,826\n",
      "Trainable params: 34,826\n",
      "Non-trainable params: 0\n",
      "_________________________________________________________________\n"
     ]
    }
   ],
   "source": [
    "model.summary()"
   ]
  },
  {
   "cell_type": "code",
   "execution_count": 8,
   "id": "bd439b5b",
   "metadata": {},
   "outputs": [],
   "source": [
    "model.compile(loss=keras.losses.categorical_crossentropy,optimizer='Adam',metrics=['accuracy'])\n"
   ]
  },
  {
   "cell_type": "code",
   "execution_count": 9,
   "id": "1a7bfd5b",
   "metadata": {},
   "outputs": [],
   "source": [
    "#Callbacks\n",
    "from keras.callbacks import EarlyStopping, ModelCheckpoint\n",
    "\n",
    "#EarlyStoping\n",
    "es=EarlyStopping(monitor='val_acc', min_delta = 0.01, patience = 4, verbose = 1)\n",
    "\n",
    "#ModelCheckpoint\n",
    "mc = ModelCheckpoint('./bestmodel.h5', monitor ='val_acc', verbose = 1, save_best_only = True)\n",
    "cb = [es,mc]"
   ]
  },
  {
   "cell_type": "markdown",
   "id": "ee781776",
   "metadata": {},
   "source": [
    "Training "
   ]
  },
  {
   "cell_type": "code",
   "execution_count": 10,
   "id": "2c5c3b93",
   "metadata": {},
   "outputs": [
    {
     "name": "stdout",
     "output_type": "stream",
     "text": [
      "Epoch 1/25\n",
      "1313/1313 [==============================] - 17s 12ms/step - loss: 0.2217 - accuracy: 0.9323 - val_loss: 0.0765 - val_accuracy: 0.9766\n",
      "Epoch 2/25\n",
      "1313/1313 [==============================] - 17s 13ms/step - loss: 0.0740 - accuracy: 0.9767 - val_loss: 0.0648 - val_accuracy: 0.9794\n",
      "Epoch 3/25\n",
      "1313/1313 [==============================] - 17s 13ms/step - loss: 0.0561 - accuracy: 0.9824 - val_loss: 0.0528 - val_accuracy: 0.9834\n",
      "Epoch 4/25\n",
      "1313/1313 [==============================] - 17s 13ms/step - loss: 0.0446 - accuracy: 0.9863 - val_loss: 0.0447 - val_accuracy: 0.9868\n",
      "Epoch 5/25\n",
      "1313/1313 [==============================] - 17s 13ms/step - loss: 0.0385 - accuracy: 0.9879 - val_loss: 0.0428 - val_accuracy: 0.9873\n",
      "Epoch 6/25\n",
      "1313/1313 [==============================] - 17s 13ms/step - loss: 0.0336 - accuracy: 0.9889 - val_loss: 0.0414 - val_accuracy: 0.9875\n",
      "Epoch 7/25\n",
      "1313/1313 [==============================] - 17s 13ms/step - loss: 0.0300 - accuracy: 0.9902 - val_loss: 0.0418 - val_accuracy: 0.9881\n",
      "Epoch 8/25\n",
      "1313/1313 [==============================] - 17s 13ms/step - loss: 0.0256 - accuracy: 0.9916 - val_loss: 0.0459 - val_accuracy: 0.9871\n",
      "Epoch 9/25\n",
      "1313/1313 [==============================] - 17s 13ms/step - loss: 0.0245 - accuracy: 0.9919 - val_loss: 0.0410 - val_accuracy: 0.9889\n",
      "Epoch 10/25\n",
      "1313/1313 [==============================] - 17s 13ms/step - loss: 0.0192 - accuracy: 0.9936 - val_loss: 0.0382 - val_accuracy: 0.9889\n",
      "Epoch 11/25\n",
      "1313/1313 [==============================] - 18s 13ms/step - loss: 0.0190 - accuracy: 0.9938 - val_loss: 0.0449 - val_accuracy: 0.9874\n",
      "Epoch 12/25\n",
      "1313/1313 [==============================] - 20s 15ms/step - loss: 0.0165 - accuracy: 0.9943 - val_loss: 0.0472 - val_accuracy: 0.9878\n",
      "Epoch 13/25\n",
      "1313/1313 [==============================] - 18s 13ms/step - loss: 0.0148 - accuracy: 0.9948 - val_loss: 0.0444 - val_accuracy: 0.9888\n",
      "Epoch 14/25\n",
      "1313/1313 [==============================] - 18s 13ms/step - loss: 0.0156 - accuracy: 0.9946 - val_loss: 0.0411 - val_accuracy: 0.9895\n",
      "Epoch 15/25\n",
      "1313/1313 [==============================] - 17s 13ms/step - loss: 0.0127 - accuracy: 0.9955 - val_loss: 0.0448 - val_accuracy: 0.9891\n",
      "Epoch 16/25\n",
      "1313/1313 [==============================] - 18s 14ms/step - loss: 0.0125 - accuracy: 0.9957 - val_loss: 0.0447 - val_accuracy: 0.9899\n",
      "Epoch 17/25\n",
      "1313/1313 [==============================] - 17s 13ms/step - loss: 0.0140 - accuracy: 0.9950 - val_loss: 0.0443 - val_accuracy: 0.9891\n",
      "Epoch 18/25\n",
      "1313/1313 [==============================] - 17s 13ms/step - loss: 0.0112 - accuracy: 0.9961 - val_loss: 0.0407 - val_accuracy: 0.9898\n",
      "Epoch 19/25\n",
      "1313/1313 [==============================] - 18s 13ms/step - loss: 0.0125 - accuracy: 0.9954 - val_loss: 0.0460 - val_accuracy: 0.9887\n",
      "Epoch 20/25\n",
      "1313/1313 [==============================] - 17s 13ms/step - loss: 0.0107 - accuracy: 0.9961 - val_loss: 0.0447 - val_accuracy: 0.9898\n",
      "Epoch 21/25\n",
      "1313/1313 [==============================] - 18s 13ms/step - loss: 0.0086 - accuracy: 0.9969 - val_loss: 0.0489 - val_accuracy: 0.9894\n",
      "Epoch 22/25\n",
      "1313/1313 [==============================] - 17s 13ms/step - loss: 0.0102 - accuracy: 0.9965 - val_loss: 0.0516 - val_accuracy: 0.9894\n",
      "Epoch 23/25\n",
      "1313/1313 [==============================] - 17s 13ms/step - loss: 0.0091 - accuracy: 0.9966 - val_loss: 0.0450 - val_accuracy: 0.9906\n",
      "Epoch 24/25\n",
      "1313/1313 [==============================] - 17s 13ms/step - loss: 0.0086 - accuracy: 0.9972 - val_loss: 0.0480 - val_accuracy: 0.9900\n",
      "Epoch 25/25\n",
      "1313/1313 [==============================] - 18s 13ms/step - loss: 0.0087 - accuracy: 0.9971 - val_loss: 0.0506 - val_accuracy: 0.9903\n",
      "The model has successfully trained\n"
     ]
    }
   ],
   "source": [
    "hist = model.fit(X_train, y_train, epochs=25,validation_split = 0.3)\n",
    "print(\"The model has successfully trained\")\n",
    "\n"
   ]
  },
  {
   "cell_type": "code",
   "execution_count": 21,
   "id": "2c5b190c",
   "metadata": {},
   "outputs": [
    {
     "data": {
      "text/plain": [
       "<matplotlib.legend.Legend at 0x141f2685b10>"
      ]
     },
     "execution_count": 21,
     "metadata": {},
     "output_type": "execute_result"
    },
    {
     "data": {
      "image/png": "[encoded data removed]",
      "text/plain": [
       "<Figure size 432x288 with 1 Axes>"
      ]
     },
     "metadata": {
      "needs_background": "light"
     },
     "output_type": "display_data"
    }
   ],
   "source": [
    "plt.xlabel('Epoch Number')\n",
    "plt.ylabel('Loss')\n",
    "plt.plot(hist.history['loss'], label='training set')\n",
    "plt.plot(hist.history['val_loss'], label='test set')\n",
    "plt.legend()"
   ]
  },
  {
   "cell_type": "code",
   "execution_count": 22,
   "id": "d0c1a525",
   "metadata": {},
   "outputs": [
    {
     "data": {
      "text/plain": [
       "<matplotlib.legend.Legend at 0x141f2685ae0>"
      ]
     },
     "execution_count": 22,
     "metadata": {},
     "output_type": "execute_result"
    },
    {
     "data": {
      "image/png": "[encoded data removed]",
      "text/plain": [
       "<Figure size 432x288 with 1 Axes>"
      ]
     },
     "metadata": {
      "needs_background": "light"
     },
     "output_type": "display_data"
    }
   ],
   "source": [
    "plt.xlabel('Epoch Number')\n",
    "plt.ylabel('Accuracy')\n",
    "plt.plot(hist.history['accuracy'], label='training set')\n",
    "plt.plot(hist.history['val_accuracy'], label='test set')\n",
    "plt.legend()"
   ]
  },
  {
   "cell_type": "code",
   "execution_count": 11,
   "id": "3e4a839b",
   "metadata": {
    "scrolled": true
   },
   "outputs": [
    {
     "name": "stdout",
     "output_type": "stream",
     "text": [
      "313/313 [==============================] - 1s 5ms/step - loss: 0.0408 - accuracy: 0.9911\n",
      "Test loss: 0.04080851003527641\n",
      "Test accuracy: 0.991100013256073\n",
      "Saving the model as bestmodel.h5\n"
     ]
    }
   ],
   "source": [
    "score = model.evaluate(X_test, y_test)\n",
    "print('Test loss:', score[0])\n",
    "print('Test accuracy:', score[1])\n",
    "\n",
    "model.save('bestmodel.h5')\n",
    "print(\"Saving the model as bestmodel.h5\")"
   ]
  },
  {
   "cell_type": "code",
   "execution_count": 14,
   "id": "1997a591",
   "metadata": {},
   "outputs": [
    {
     "name": "stdout",
     "output_type": "stream",
     "text": [
      "313/313 [==============================] - 1s 4ms/step\n",
      "The predicted number is  0\n"
     ]
    },
    {
     "data": {
      "image/png": "[encoded data removed]",
      "text/plain": [
       "<Figure size 432x288 with 1 Axes>"
      ]
     },
     "metadata": {
      "needs_background": "light"
     },
     "output_type": "display_data"
    }
   ],
   "source": [
    "prediction=model.predict(X_test)\n",
    "\n",
    "prediction=np.argmax(prediction,axis=1)\n",
    "plt.imshow(X_test[25].reshape(28,28))\n",
    "print('The predicted number is  '+ str(prediction[25]))"
   ]
  },
  {
   "cell_type": "code",
   "execution_count": 26,
   "id": "f92156a8",
   "metadata": {},
   "outputs": [
    {
     "data": {
      "text/plain": [
       "(10000,)"
      ]
     },
     "execution_count": 26,
     "metadata": {},
     "output_type": "execute_result"
    }
   ],
   "source": [
    "prediction.shape"
   ]
  },
  {
   "cell_type": "code",
   "execution_count": 19,
   "id": "9ac05950",
   "metadata": {},
   "outputs": [
    {
     "data": {
      "text/plain": [
       "(10000,)"
      ]
     },
     "execution_count": 19,
     "metadata": {},
     "output_type": "execute_result"
    }
   ],
   "source": [
    "m.shape"
   ]
  },
  {
   "cell_type": "code",
   "execution_count": 20,
   "id": "d6f56fe8",
   "metadata": {},
   "outputs": [
    {
     "data": {
      "image/png": "[encoded data removed]",
      "text/plain": [
       "<Figure size 648x504 with 2 Axes>"
      ]
     },
     "metadata": {
      "needs_background": "light"
     },
     "output_type": "display_data"
    }
   ],
   "source": [
    "import seaborn as sn\n",
    "confusion_matrix = tf.math.confusion_matrix(m, prediction)\n",
    "f, ax = plt.subplots(figsize=(9, 7))\n",
    "sn.heatmap( confusion_matrix, annot=True, linewidths=.5, fmt=\"d\", square=True, ax=ax)\n",
    "plt.show()"
   ]
  },
  {
   "cell_type": "markdown",
   "id": "a1e2fa02",
   "metadata": {},
   "source": [
    "Digit-recognition-GUI-with-tkinter"
   ]
  },
  {
   "cell_type": "code",
   "execution_count": 32,
   "id": "438e2f37",
   "metadata": {
    "scrolled": false
   },
   "outputs": [
    {
     "name": "stdout",
     "output_type": "stream",
     "text": [
      "224 272 1028 876\n",
      "1/1 [==============================] - 0s 63ms/step\n",
      "1/1 [==============================] - 0s 24ms/step\n",
      "1/1 [==============================] - 0s 22ms/step\n",
      "1/1 [==============================] - 0s 44ms/step\n",
      "1/1 [==============================] - 0s 22ms/step\n",
      "1/1 [==============================] - 0s 16ms/step\n",
      "1/1 [==============================] - 0s 26ms/step\n",
      "1/1 [==============================] - 0s 33ms/step\n",
      "1/1 [==============================] - 0s 23ms/step\n",
      "1/1 [==============================] - 0s 32ms/step\n",
      "1/1 [==============================] - 0s 19ms/step\n",
      "1/1 [==============================] - 0s 34ms/step\n",
      "1/1 [==============================] - 0s 36ms/step\n",
      "1/1 [==============================] - 0s 21ms/step\n",
      "1/1 [==============================] - 0s 28ms/step\n",
      "1/1 [==============================] - 0s 24ms/step\n",
      "1/1 [==============================] - 0s 33ms/step\n",
      "1/1 [==============================] - 0s 30ms/step\n",
      "1/1 [==============================] - 0s 29ms/step\n",
      "1/1 [==============================] - 0s 21ms/step\n",
      "1/1 [==============================] - 0s 22ms/step\n",
      "1/1 [==============================] - 0s 30ms/step\n",
      "1/1 [==============================] - 0s 40ms/step\n",
      "1/1 [==============================] - 0s 27ms/step\n",
      "1/1 [==============================] - 0s 36ms/step\n",
      "1/1 [==============================] - 0s 30ms/step\n",
      "1/1 [==============================] - 0s 26ms/step\n",
      "1/1 [==============================] - 0s 50ms/step\n",
      "1/1 [==============================] - 0s 30ms/step\n",
      "224 272 1028 876\n",
      "1/1 [==============================] - 0s 17ms/step\n",
      "1/1 [==============================] - 0s 28ms/step\n",
      "1/1 [==============================] - 0s 25ms/step\n",
      "1/1 [==============================] - 0s 18ms/step\n",
      "1/1 [==============================] - 0s 22ms/step\n",
      "1/1 [==============================] - 0s 36ms/step\n",
      "1/1 [==============================] - 0s 26ms/step\n",
      "1/1 [==============================] - 0s 25ms/step\n",
      "1/1 [==============================] - 0s 27ms/step\n",
      "1/1 [==============================] - 0s 24ms/step\n",
      "1/1 [==============================] - 0s 25ms/step\n",
      "1/1 [==============================] - 0s 29ms/step\n",
      "1/1 [==============================] - 0s 30ms/step\n",
      "1/1 [==============================] - 0s 25ms/step\n",
      "1/1 [==============================] - 0s 22ms/step\n",
      "1/1 [==============================] - 0s 33ms/step\n",
      "1/1 [==============================] - 0s 21ms/step\n",
      "1/1 [==============================] - 0s 26ms/step\n",
      "1/1 [==============================] - 0s 25ms/step\n",
      "1/1 [==============================] - 0s 24ms/step\n",
      "1/1 [==============================] - 0s 45ms/step\n",
      "1/1 [==============================] - 0s 19ms/step\n",
      "1/1 [==============================] - 0s 27ms/step\n",
      "1/1 [==============================] - 0s 18ms/step\n",
      "1/1 [==============================] - 0s 35ms/step\n",
      "1/1 [==============================] - 0s 26ms/step\n",
      "1/1 [==============================] - 0s 38ms/step\n",
      "1/1 [==============================] - 0s 20ms/step\n",
      "1/1 [==============================] - 0s 63ms/step\n",
      "224 272 1028 876\n",
      "1/1 [==============================] - 0s 19ms/step\n",
      "1/1 [==============================] - 0s 28ms/step\n",
      "1/1 [==============================] - 0s 40ms/step\n",
      "1/1 [==============================] - 0s 26ms/step\n",
      "1/1 [==============================] - 0s 32ms/step\n",
      "1/1 [==============================] - 0s 23ms/step\n",
      "1/1 [==============================] - 0s 34ms/step\n",
      "1/1 [==============================] - 0s 30ms/step\n",
      "1/1 [==============================] - 0s 22ms/step\n",
      "1/1 [==============================] - 0s 28ms/step\n",
      "1/1 [==============================] - 0s 32ms/step\n",
      "1/1 [==============================] - 0s 23ms/step\n",
      "1/1 [==============================] - 0s 22ms/step\n",
      "1/1 [==============================] - 0s 44ms/step\n",
      "1/1 [==============================] - 0s 19ms/step\n",
      "1/1 [==============================] - 0s 41ms/step\n",
      "1/1 [==============================] - 0s 34ms/step\n",
      "1/1 [==============================] - 0s 18ms/step\n",
      "1/1 [==============================] - 0s 34ms/step\n",
      "1/1 [==============================] - 0s 20ms/step\n",
      "1/1 [==============================] - 0s 47ms/step\n",
      "1/1 [==============================] - 0s 32ms/step\n",
      "1/1 [==============================] - 0s 25ms/step\n",
      "1/1 [==============================] - 0s 18ms/step\n",
      "1/1 [==============================] - 0s 25ms/step\n",
      "1/1 [==============================] - 0s 34ms/step\n",
      "1/1 [==============================] - 0s 26ms/step\n",
      "1/1 [==============================] - 0s 32ms/step\n",
      "1/1 [==============================] - 0s 36ms/step\n"
     ]
    }
   ],
   "source": [
    "from tkinter import *\n",
    "\n",
    "import cv2\n",
    "import numpy as np\n",
    "from PIL import ImageGrab\n",
    "from keras.models import load_model\n",
    "import webbrowser\n",
    "\n",
    "model = load_model('bestmodel.h5')\n",
    "image_folder = r'C:\\Users\\baymu\\AppData\\Local\\Programs\\Python\\Python310\\img'\n",
    "\n",
    "root = Tk()\n",
    "root.resizable(0, 0)\n",
    "root.title(\"Digit Recognition System\")\n",
    "\n",
    "lastx, lasty = None, None\n",
    "image_number = 0\n",
    "\n",
    "cv = Canvas(root, width=800, height=600, bg='white')\n",
    "cv.grid(row=0, column=0, pady=2, sticky=NSEW, columnspan=2)\n",
    "\n",
    "\n",
    "def clear_widget():\n",
    "    global cv\n",
    "    cv.delete('all')\n",
    "\n",
    "\n",
    "def draw_lines(event):\n",
    "    global lastx, lasty\n",
    "    x, y = event.x, event.y\n",
    "    cv.create_line((lastx, lasty, x, y), width=8, fill='black', capstyle=ROUND, smooth=TRUE, splinesteps=12)\n",
    "    lastx, lasty = x, y\n",
    "\n",
    "\n",
    "def activate_event(event):\n",
    "    global lastx, lasty\n",
    "    cv.bind('<B1-Motion>', draw_lines)\n",
    "    lastx, lasty = event.x, event.y\n",
    "\n",
    "\n",
    "cv.bind('<Button-1>', activate_event)\n",
    "\n",
    "\n",
    "def Recognize_Digit():\n",
    "    global image_number\n",
    "    filename = f'img_{image_number}.png'\n",
    "    widget = cv\n",
    "\n",
    "    x = root.winfo_rootx() + widget.winfo_rootx()\n",
    "    y = root.winfo_rooty() + widget.winfo_rooty()\n",
    "    x1 = x + widget.winfo_width()\n",
    "    y1 = y + widget.winfo_height()\n",
    "    print(x, y, x1, y1)\n",
    "\n",
    "    # get image and save\n",
    "    ImageGrab.grab().crop((x, y, x1, y1)).save(image_folder + filename)\n",
    "\n",
    "    image = cv2.imread(image_folder + filename, cv2.IMREAD_COLOR)\n",
    "    gray = cv2.cvtColor(image.copy(), cv2.COLOR_BGR2GRAY)\n",
    "    ret, th = cv2.threshold(gray, 0, 255, cv2.THRESH_BINARY_INV + cv2.THRESH_OTSU)\n",
    "\n",
    "    contours = cv2.findContours(th, cv2.RETR_EXTERNAL, cv2.CHAIN_APPROX_SIMPLE)[0]\n",
    "\n",
    "    for cnt in contours:\n",
    "        x, y, w, h = cv2.boundingRect(cnt)\n",
    "        # make a rectangle box around each curve\n",
    "        cv2.rectangle(image, (x, y), (x + w, y + h), (255, 0, 0), 1)\n",
    "\n",
    "        # Cropping out the digit from the image corresponding to the current contours in the for loop\n",
    "        digit = th[y:y + h, x:x + w]\n",
    "\n",
    "        # Resizing that digit to (18, 18)\n",
    "        resized_digit = cv2.resize(digit, (18, 18))\n",
    "\n",
    "        # Padding the digit with 5 pixels of black color (zeros) in each side to finally produce the image of (28, 28)\n",
    "        padded_digit = np.pad(resized_digit, ((5, 5), (5, 5)), \"constant\", constant_values=0)\n",
    "\n",
    "        digit = padded_digit.reshape(1, 28, 28, 1)\n",
    "        digit = digit / 255.0\n",
    "\n",
    "        pred = model.predict([digit])[0]\n",
    "        final_pred = np.argmax(pred)\n",
    "\n",
    "        data = str(final_pred) + ' ' + str(int(max(pred) * 100)) + '%'\n",
    "\n",
    "        font = cv2.FONT_HERSHEY_SIMPLEX\n",
    "        fontScale = 0.5\n",
    "        color = (255, 0, 0)\n",
    "        thickness = 1\n",
    "        cv2.putText(image, data, (x, y - 5), font, fontScale, color, thickness)\n",
    "\n",
    "    cv2.imshow('Predictions', image)\n",
    "    cv2.waitKey(0)\n",
    "    \n",
    "def callback():\n",
    "        webbrowser.open_new(r\"www.google.com\")    \n",
    "btn_save = Button(text='Recognize Digits',width=15, height=3, command=Recognize_Digit)\n",
    "btn_save.grid(row=2, column=0, pady=1, padx=1)\n",
    "button_clear = Button(text='Clear Output',width=15, height=3, command=clear_widget)\n",
    "button_clear.grid(row=2, column=1, pady=1, padx=1)\n",
    "button_info = Button(text='', width=15, height=2, command=callback)\n",
    "button_info.grid(row=3, column=0, pady=1, padx=1)\n",
    "\n",
    "root.mainloop()"
   ]
  }
 ],
 "metadata": {
  "kernelspec": {
   "display_name": "Python 3 (ipykernel)",
   "language": "python",
   "name": "python3"
  },
  "language_info": {
   "codemirror_mode": {
    "name": "ipython",
    "version": 3
   },
   "file_extension": ".py",
   "mimetype": "text/x-python",
   "name": "python",
   "nbconvert_exporter": "python",
   "pygments_lexer": "ipython3",
   "version": "3.10.4"
  }
 },
 "nbformat": 4,
 "nbformat_minor": 5
}
